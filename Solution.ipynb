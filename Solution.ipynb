{
 "cells": [
  {
   "cell_type": "code",
   "execution_count": 1,
   "id": "3c7f4349",
   "metadata": {},
   "outputs": [],
   "source": [
    "import pandas as pd"
   ]
  },
  {
   "cell_type": "code",
   "execution_count": 2,
   "id": "6bb2a29a",
   "metadata": {},
   "outputs": [
    {
     "data": {
      "text/html": [
       "<div>\n",
       "<style scoped>\n",
       "    .dataframe tbody tr th:only-of-type {\n",
       "        vertical-align: middle;\n",
       "    }\n",
       "\n",
       "    .dataframe tbody tr th {\n",
       "        vertical-align: top;\n",
       "    }\n",
       "\n",
       "    .dataframe thead th {\n",
       "        text-align: right;\n",
       "    }\n",
       "</style>\n",
       "<table border=\"1\" class=\"dataframe\">\n",
       "  <thead>\n",
       "    <tr style=\"text-align: right;\">\n",
       "      <th></th>\n",
       "      <th>age</th>\n",
       "      <th>weight</th>\n",
       "      <th>height</th>\n",
       "      <th>sex</th>\n",
       "      <th>stress</th>\n",
       "      <th>doctor</th>\n",
       "      <th>sport</th>\n",
       "      <th>pernicious_1</th>\n",
       "      <th>pernicious_2</th>\n",
       "      <th>ubp</th>\n",
       "      <th>lbp</th>\n",
       "    </tr>\n",
       "  </thead>\n",
       "  <tbody>\n",
       "    <tr>\n",
       "      <th>0</th>\n",
       "      <td>50.357290</td>\n",
       "      <td>62.0</td>\n",
       "      <td>168</td>\n",
       "      <td>2</td>\n",
       "      <td>1</td>\n",
       "      <td>1</td>\n",
       "      <td>1</td>\n",
       "      <td>0</td>\n",
       "      <td>0</td>\n",
       "      <td>110</td>\n",
       "      <td>80</td>\n",
       "    </tr>\n",
       "    <tr>\n",
       "      <th>1</th>\n",
       "      <td>55.381246</td>\n",
       "      <td>85.0</td>\n",
       "      <td>156</td>\n",
       "      <td>1</td>\n",
       "      <td>3</td>\n",
       "      <td>1</td>\n",
       "      <td>1</td>\n",
       "      <td>0</td>\n",
       "      <td>0</td>\n",
       "      <td>140</td>\n",
       "      <td>90</td>\n",
       "    </tr>\n",
       "    <tr>\n",
       "      <th>2</th>\n",
       "      <td>51.627652</td>\n",
       "      <td>64.0</td>\n",
       "      <td>165</td>\n",
       "      <td>1</td>\n",
       "      <td>3</td>\n",
       "      <td>1</td>\n",
       "      <td>0</td>\n",
       "      <td>0</td>\n",
       "      <td>0</td>\n",
       "      <td>130</td>\n",
       "      <td>70</td>\n",
       "    </tr>\n",
       "    <tr>\n",
       "      <th>3</th>\n",
       "      <td>48.249144</td>\n",
       "      <td>82.0</td>\n",
       "      <td>169</td>\n",
       "      <td>2</td>\n",
       "      <td>1</td>\n",
       "      <td>1</td>\n",
       "      <td>1</td>\n",
       "      <td>0</td>\n",
       "      <td>0</td>\n",
       "      <td>150</td>\n",
       "      <td>100</td>\n",
       "    </tr>\n",
       "    <tr>\n",
       "      <th>4</th>\n",
       "      <td>47.841205</td>\n",
       "      <td>56.0</td>\n",
       "      <td>156</td>\n",
       "      <td>1</td>\n",
       "      <td>1</td>\n",
       "      <td>1</td>\n",
       "      <td>0</td>\n",
       "      <td>0</td>\n",
       "      <td>0</td>\n",
       "      <td>100</td>\n",
       "      <td>60</td>\n",
       "    </tr>\n",
       "  </tbody>\n",
       "</table>\n",
       "</div>"
      ],
      "text/plain": [
       "         age  weight  height  sex  stress  doctor  sport  pernicious_1  \\\n",
       "0  50.357290    62.0     168    2       1       1      1             0   \n",
       "1  55.381246    85.0     156    1       3       1      1             0   \n",
       "2  51.627652    64.0     165    1       3       1      0             0   \n",
       "3  48.249144    82.0     169    2       1       1      1             0   \n",
       "4  47.841205    56.0     156    1       1       1      0             0   \n",
       "\n",
       "   pernicious_2  ubp  lbp  \n",
       "0             0  110   80  \n",
       "1             0  140   90  \n",
       "2             0  130   70  \n",
       "3             0  150  100  \n",
       "4             0  100   60  "
      ]
     },
     "execution_count": 2,
     "metadata": {},
     "output_type": "execute_result"
    }
   ],
   "source": [
    "train_df = pd.read_csv(\"TRAIN.csv\").drop(columns=\"id\")\n",
    "df = train_df.drop(columns=\"insomnia\")\n",
    "df.head()"
   ]
  },
  {
   "cell_type": "code",
   "execution_count": 3,
   "id": "0ee19979",
   "metadata": {},
   "outputs": [
    {
     "data": {
      "text/html": [
       "<div>\n",
       "<style scoped>\n",
       "    .dataframe tbody tr th:only-of-type {\n",
       "        vertical-align: middle;\n",
       "    }\n",
       "\n",
       "    .dataframe tbody tr th {\n",
       "        vertical-align: top;\n",
       "    }\n",
       "\n",
       "    .dataframe thead th {\n",
       "        text-align: right;\n",
       "    }\n",
       "</style>\n",
       "<table border=\"1\" class=\"dataframe\">\n",
       "  <thead>\n",
       "    <tr style=\"text-align: right;\">\n",
       "      <th></th>\n",
       "      <th>age</th>\n",
       "      <th>weight</th>\n",
       "      <th>height</th>\n",
       "      <th>sex</th>\n",
       "      <th>stress</th>\n",
       "      <th>doctor</th>\n",
       "      <th>sport</th>\n",
       "      <th>pernicious_1</th>\n",
       "      <th>pernicious_2</th>\n",
       "      <th>ubp</th>\n",
       "      <th>lbp</th>\n",
       "    </tr>\n",
       "  </thead>\n",
       "  <tbody>\n",
       "    <tr>\n",
       "      <th>0</th>\n",
       "      <td>50.357290</td>\n",
       "      <td>62.0</td>\n",
       "      <td>168</td>\n",
       "      <td>1</td>\n",
       "      <td>0</td>\n",
       "      <td>0</td>\n",
       "      <td>1</td>\n",
       "      <td>0</td>\n",
       "      <td>0</td>\n",
       "      <td>110</td>\n",
       "      <td>80</td>\n",
       "    </tr>\n",
       "    <tr>\n",
       "      <th>1</th>\n",
       "      <td>55.381246</td>\n",
       "      <td>85.0</td>\n",
       "      <td>156</td>\n",
       "      <td>0</td>\n",
       "      <td>2</td>\n",
       "      <td>0</td>\n",
       "      <td>1</td>\n",
       "      <td>0</td>\n",
       "      <td>0</td>\n",
       "      <td>140</td>\n",
       "      <td>90</td>\n",
       "    </tr>\n",
       "    <tr>\n",
       "      <th>2</th>\n",
       "      <td>51.627652</td>\n",
       "      <td>64.0</td>\n",
       "      <td>165</td>\n",
       "      <td>0</td>\n",
       "      <td>2</td>\n",
       "      <td>0</td>\n",
       "      <td>0</td>\n",
       "      <td>0</td>\n",
       "      <td>0</td>\n",
       "      <td>130</td>\n",
       "      <td>70</td>\n",
       "    </tr>\n",
       "    <tr>\n",
       "      <th>3</th>\n",
       "      <td>48.249144</td>\n",
       "      <td>82.0</td>\n",
       "      <td>169</td>\n",
       "      <td>1</td>\n",
       "      <td>0</td>\n",
       "      <td>0</td>\n",
       "      <td>1</td>\n",
       "      <td>0</td>\n",
       "      <td>0</td>\n",
       "      <td>150</td>\n",
       "      <td>100</td>\n",
       "    </tr>\n",
       "    <tr>\n",
       "      <th>4</th>\n",
       "      <td>47.841205</td>\n",
       "      <td>56.0</td>\n",
       "      <td>156</td>\n",
       "      <td>0</td>\n",
       "      <td>0</td>\n",
       "      <td>0</td>\n",
       "      <td>0</td>\n",
       "      <td>0</td>\n",
       "      <td>0</td>\n",
       "      <td>100</td>\n",
       "      <td>60</td>\n",
       "    </tr>\n",
       "  </tbody>\n",
       "</table>\n",
       "</div>"
      ],
      "text/plain": [
       "         age  weight  height  sex  stress  doctor  sport  pernicious_1  \\\n",
       "0  50.357290    62.0     168    1       0       0      1             0   \n",
       "1  55.381246    85.0     156    0       2       0      1             0   \n",
       "2  51.627652    64.0     165    0       2       0      0             0   \n",
       "3  48.249144    82.0     169    1       0       0      1             0   \n",
       "4  47.841205    56.0     156    0       0       0      0             0   \n",
       "\n",
       "   pernicious_2  ubp  lbp  \n",
       "0             0  110   80  \n",
       "1             0  140   90  \n",
       "2             0  130   70  \n",
       "3             0  150  100  \n",
       "4             0  100   60  "
      ]
     },
     "execution_count": 3,
     "metadata": {},
     "output_type": "execute_result"
    }
   ],
   "source": [
    "df[\"sex\"] -= 1\n",
    "df[\"stress\"] -= 1\n",
    "df[\"doctor\"] -= 1\n",
    "df.head()"
   ]
  },
  {
   "cell_type": "code",
   "execution_count": 4,
   "id": "076972d3",
   "metadata": {},
   "outputs": [],
   "source": [
    "from sklearn.model_selection import train_test_split"
   ]
  },
  {
   "cell_type": "markdown",
   "id": "e25fda9f",
   "metadata": {},
   "source": [
    "## Check balance"
   ]
  },
  {
   "cell_type": "code",
   "execution_count": 6,
   "id": "b7f67d39",
   "metadata": {},
   "outputs": [
    {
     "data": {
      "text/plain": [
       "0    0.5003\n",
       "1    0.4997\n",
       "Name: insomnia, dtype: float64"
      ]
     },
     "execution_count": 6,
     "metadata": {},
     "output_type": "execute_result"
    }
   ],
   "source": [
    "train_df[\"insomnia\"].value_counts(normalize=True)"
   ]
  },
  {
   "cell_type": "code",
   "execution_count": 7,
   "id": "9adcce5c",
   "metadata": {},
   "outputs": [],
   "source": [
    "from sklearn.model_selection import cross_validate\n",
    "from catboost import CatBoostClassifier\n",
    "from sklearn.model_selection import GridSearchCV\n",
    "import numpy as np"
   ]
  },
  {
   "cell_type": "markdown",
   "id": "3ed8ca61",
   "metadata": {},
   "source": [
    "## Training a model to predict `sport` column given the other ones for data imputing"
   ]
  },
  {
   "cell_type": "code",
   "execution_count": 8,
   "id": "a3a533b8",
   "metadata": {},
   "outputs": [
    {
     "name": "stdout",
     "output_type": "stream",
     "text": [
      "Fitting 5 folds for each of 15 candidates, totalling 75 fits\n"
     ]
    },
    {
     "data": {
      "text/plain": [
       "GridSearchCV(cv=5,\n",
       "             estimator=<catboost.core.CatBoostClassifier object at 0x000002022D3E0B20>,\n",
       "             n_jobs=-1,\n",
       "             param_grid={'learning_rate': [0.01, 0.05, 0.1],\n",
       "                         'n_estimators': array([300, 320, 340, 360, 380])},\n",
       "             scoring='accuracy', verbose=True)"
      ]
     },
     "execution_count": 8,
     "metadata": {},
     "output_type": "execute_result"
    }
   ],
   "source": [
    "params = {'n_estimators' : np.arange(300,400,20),\n",
    "          'learning_rate' : [0.01, 0.05, 0.1]}\n",
    "\n",
    "gs = GridSearchCV(CatBoostClassifier(verbose=False), params, cv=5, scoring='accuracy', verbose=True, n_jobs=-1)\n",
    "gs.fit(\n",
    "    df.drop(columns=\"sport\"),\n",
    "    df[\"sport\"]\n",
    ")"
   ]
  },
  {
   "cell_type": "code",
   "execution_count": 9,
   "id": "f15c60b9",
   "metadata": {},
   "outputs": [
    {
     "data": {
      "text/plain": [
       "(0.8038142857142857, {'learning_rate': 0.05, 'n_estimators': 380})"
      ]
     },
     "execution_count": 9,
     "metadata": {},
     "output_type": "execute_result"
    }
   ],
   "source": [
    "gs.best_score_, gs.best_params_"
   ]
  },
  {
   "cell_type": "code",
   "execution_count": 10,
   "id": "0e91d2db",
   "metadata": {},
   "outputs": [
    {
     "name": "stderr",
     "output_type": "stream",
     "text": [
      "[Parallel(n_jobs=-1)]: Using backend LokyBackend with 12 concurrent workers.\n"
     ]
    },
    {
     "name": "stdout",
     "output_type": "stream",
     "text": [
      "train: 0.8044821428571428\n",
      "test: 0.8038142857142857\n"
     ]
    },
    {
     "name": "stderr",
     "output_type": "stream",
     "text": [
      "[Parallel(n_jobs=-1)]: Done   5 out of   5 | elapsed:    8.3s finished\n"
     ]
    }
   ],
   "source": [
    "cv_res_sport = cross_validate(\n",
    "    CatBoostClassifier(\n",
    "        n_estimators=380,\n",
    "        verbose=False,\n",
    "        learning_rate=0.05\n",
    "    ),\n",
    "    df.drop(columns=\"sport\"),\n",
    "    df[\"sport\"],\n",
    "    cv=5, \n",
    "    scoring='accuracy', \n",
    "    return_train_score=True,\n",
    "    verbose=True,\n",
    "    n_jobs=-1\n",
    ")\n",
    "\n",
    "print(f\"train: {cv_res_sport['train_score'].mean()}\")\n",
    "print(f\"test: {cv_res_sport['test_score'].mean()}\")"
   ]
  },
  {
   "cell_type": "code",
   "execution_count": 11,
   "id": "ccccd1de",
   "metadata": {},
   "outputs": [
    {
     "data": {
      "text/plain": [
       "<catboost.core.CatBoostClassifier at 0x2022d3e0850>"
      ]
     },
     "execution_count": 11,
     "metadata": {},
     "output_type": "execute_result"
    }
   ],
   "source": [
    "sport_model = CatBoostClassifier(\n",
    "    n_estimators=380,\n",
    "    verbose=False,\n",
    "    learning_rate=0.05,\n",
    ")\n",
    "sport_model.fit(df.drop(columns=\"sport\"), df[\"sport\"],)"
   ]
  },
  {
   "cell_type": "markdown",
   "id": "d5e5f721",
   "metadata": {},
   "source": [
    "## pernicious_1"
   ]
  },
  {
   "cell_type": "code",
   "execution_count": 12,
   "id": "cdda45de",
   "metadata": {},
   "outputs": [
    {
     "name": "stdout",
     "output_type": "stream",
     "text": [
      "Fitting 5 folds for each of 15 candidates, totalling 75 fits\n"
     ]
    },
    {
     "data": {
      "text/plain": [
       "(0.9230857142857143, {'learning_rate': 0.01, 'n_estimators': 300})"
      ]
     },
     "execution_count": 12,
     "metadata": {},
     "output_type": "execute_result"
    }
   ],
   "source": [
    "params = {'n_estimators' : np.arange(300,400,20),\n",
    "          'learning_rate' : [0.01, 0.05, 0.1]}\n",
    "\n",
    "gs = GridSearchCV(CatBoostClassifier(verbose=False), params, cv=5, scoring='accuracy', verbose=True, n_jobs=-1)\n",
    "gs.fit(\n",
    "    df.drop(columns=\"pernicious_1\"),\n",
    "    df[\"pernicious_1\"]\n",
    ")\n",
    "\n",
    "gs.best_score_, gs.best_params_"
   ]
  },
  {
   "cell_type": "code",
   "execution_count": 13,
   "id": "ee7d2b4e",
   "metadata": {},
   "outputs": [
    {
     "name": "stderr",
     "output_type": "stream",
     "text": [
      "[Parallel(n_jobs=-1)]: Using backend LokyBackend with 12 concurrent workers.\n"
     ]
    },
    {
     "name": "stdout",
     "output_type": "stream",
     "text": [
      "train: 0.9236464285714285\n",
      "test: 0.9230857142857143\n"
     ]
    },
    {
     "name": "stderr",
     "output_type": "stream",
     "text": [
      "[Parallel(n_jobs=-1)]: Done   5 out of   5 | elapsed:    7.2s finished\n"
     ]
    }
   ],
   "source": [
    "cv_res_pernicious_1 = cross_validate(\n",
    "    CatBoostClassifier(\n",
    "        n_estimators=300,\n",
    "        verbose=False,\n",
    "        learning_rate=0.01\n",
    "    ),\n",
    "    df.drop(columns=\"pernicious_1\"),\n",
    "    df[\"pernicious_1\"],\n",
    "    cv=5, \n",
    "    scoring='accuracy', \n",
    "    return_train_score=True,\n",
    "    verbose=True,\n",
    "    n_jobs=-1\n",
    ")\n",
    "\n",
    "print(f\"train: {cv_res_pernicious_1['train_score'].mean()}\")\n",
    "print(f\"test: {cv_res_pernicious_1['test_score'].mean()}\")"
   ]
  },
  {
   "cell_type": "code",
   "execution_count": 14,
   "id": "b071be7d",
   "metadata": {},
   "outputs": [
    {
     "data": {
      "text/plain": [
       "<catboost.core.CatBoostClassifier at 0x2022e9c7580>"
      ]
     },
     "execution_count": 14,
     "metadata": {},
     "output_type": "execute_result"
    }
   ],
   "source": [
    "per_1_model = CatBoostClassifier(\n",
    "    n_estimators=300,\n",
    "    verbose=False,\n",
    "    learning_rate=0.01,\n",
    ")\n",
    "per_1_model.fit(df.drop(columns=\"pernicious_1\"), df[\"pernicious_1\"],)"
   ]
  },
  {
   "cell_type": "markdown",
   "id": "1b459840",
   "metadata": {},
   "source": [
    "## pernicious_2"
   ]
  },
  {
   "cell_type": "code",
   "execution_count": 15,
   "id": "254f2fb8",
   "metadata": {},
   "outputs": [
    {
     "name": "stdout",
     "output_type": "stream",
     "text": [
      "Fitting 5 folds for each of 15 candidates, totalling 75 fits\n"
     ]
    },
    {
     "data": {
      "text/plain": [
       "(0.9462428571428572, {'learning_rate': 0.01, 'n_estimators': 360})"
      ]
     },
     "execution_count": 15,
     "metadata": {},
     "output_type": "execute_result"
    }
   ],
   "source": [
    "params = {'n_estimators' : np.arange(300,400,20),\n",
    "          'learning_rate' : [0.01, 0.05, 0.1]}\n",
    "\n",
    "gs = GridSearchCV(CatBoostClassifier(verbose=False), params, cv=5, scoring='accuracy', verbose=True, n_jobs=-1)\n",
    "gs.fit(\n",
    "    df.drop(columns=\"pernicious_2\"),\n",
    "    df[\"pernicious_2\"]\n",
    ")\n",
    "\n",
    "gs.best_score_, gs.best_params_"
   ]
  },
  {
   "cell_type": "code",
   "execution_count": 16,
   "id": "d02e6e42",
   "metadata": {},
   "outputs": [
    {
     "name": "stderr",
     "output_type": "stream",
     "text": [
      "[Parallel(n_jobs=-1)]: Using backend LokyBackend with 12 concurrent workers.\n"
     ]
    },
    {
     "name": "stdout",
     "output_type": "stream",
     "text": [
      "train: 0.9462678571428572\n",
      "test: 0.9462428571428572\n"
     ]
    },
    {
     "name": "stderr",
     "output_type": "stream",
     "text": [
      "[Parallel(n_jobs=-1)]: Done   5 out of   5 | elapsed:    8.6s finished\n"
     ]
    }
   ],
   "source": [
    "cv_res_pernicious_2 = cross_validate(\n",
    "    CatBoostClassifier(\n",
    "        n_estimators=360,\n",
    "        verbose=False,\n",
    "        learning_rate=0.01\n",
    "    ),\n",
    "    df.drop(columns=\"pernicious_2\"),\n",
    "    df[\"pernicious_2\"],\n",
    "    cv=5, \n",
    "    scoring='accuracy', \n",
    "    return_train_score=True,\n",
    "    verbose=True,\n",
    "    n_jobs=-1\n",
    ")\n",
    "\n",
    "print(f\"train: {cv_res_pernicious_2['train_score'].mean()}\")\n",
    "print(f\"test: {cv_res_pernicious_2['test_score'].mean()}\")"
   ]
  },
  {
   "cell_type": "code",
   "execution_count": 17,
   "id": "4d977af0",
   "metadata": {},
   "outputs": [
    {
     "data": {
      "text/plain": [
       "<catboost.core.CatBoostClassifier at 0x2022d543fa0>"
      ]
     },
     "execution_count": 17,
     "metadata": {},
     "output_type": "execute_result"
    }
   ],
   "source": [
    "per_2_model = CatBoostClassifier(\n",
    "    n_estimators=360,\n",
    "    verbose=False,\n",
    "    learning_rate=0.01,\n",
    ")\n",
    "per_2_model.fit(df.drop(columns=\"pernicious_2\"), df[\"pernicious_2\"])"
   ]
  },
  {
   "cell_type": "markdown",
   "id": "a71c2826",
   "metadata": {},
   "source": [
    "## Training Prediction Model"
   ]
  },
  {
   "cell_type": "code",
   "execution_count": 18,
   "id": "8a84e25e",
   "metadata": {},
   "outputs": [
    {
     "name": "stdout",
     "output_type": "stream",
     "text": [
      "Fitting 5 folds for each of 15 candidates, totalling 75 fits\n"
     ]
    },
    {
     "data": {
      "text/plain": [
       "(0.7367142857142858, {'learning_rate': 0.1, 'n_estimators': 380})"
      ]
     },
     "execution_count": 18,
     "metadata": {},
     "output_type": "execute_result"
    }
   ],
   "source": [
    "params = {'n_estimators' : np.arange(300,400,20),\n",
    "          'learning_rate' : [0.01, 0.05, 0.1]}\n",
    "\n",
    "gs = GridSearchCV(CatBoostClassifier(verbose=False), params, cv=5, scoring='accuracy', verbose=True, n_jobs=-1)\n",
    "gs.fit(\n",
    "    train_df.drop(columns=\"insomnia\"),\n",
    "    train_df[\"insomnia\"]\n",
    ")\n",
    "\n",
    "gs.best_score_, gs.best_params_"
   ]
  },
  {
   "cell_type": "code",
   "execution_count": 19,
   "id": "2acf8541",
   "metadata": {},
   "outputs": [
    {
     "name": "stderr",
     "output_type": "stream",
     "text": [
      "[Parallel(n_jobs=-1)]: Using backend LokyBackend with 12 concurrent workers.\n"
     ]
    },
    {
     "name": "stdout",
     "output_type": "stream",
     "text": [
      "train: 0.750357142857143\n",
      "test: 0.7367142857142858\n"
     ]
    },
    {
     "name": "stderr",
     "output_type": "stream",
     "text": [
      "[Parallel(n_jobs=-1)]: Done   5 out of   5 | elapsed:    9.2s finished\n"
     ]
    }
   ],
   "source": [
    "cv_res_insomnia = cross_validate(\n",
    "    CatBoostClassifier(\n",
    "        n_estimators=380,\n",
    "        verbose=False,\n",
    "        learning_rate=0.1\n",
    "    ),\n",
    "    train_df.drop(columns=\"insomnia\"),\n",
    "    train_df[\"insomnia\"],\n",
    "    cv=5, \n",
    "    scoring='accuracy', \n",
    "    return_train_score=True,\n",
    "    verbose=True,\n",
    "    n_jobs=-1\n",
    ")\n",
    "\n",
    "print(f\"train: {cv_res_insomnia['train_score'].mean()}\")\n",
    "print(f\"test: {cv_res_insomnia['test_score'].mean()}\")"
   ]
  },
  {
   "cell_type": "code",
   "execution_count": 20,
   "id": "a0973e07",
   "metadata": {},
   "outputs": [
    {
     "data": {
      "text/plain": [
       "<catboost.core.CatBoostClassifier at 0x2022e9ae460>"
      ]
     },
     "execution_count": 20,
     "metadata": {},
     "output_type": "execute_result"
    }
   ],
   "source": [
    "insomnia_model = CatBoostClassifier(\n",
    "    n_estimators=380,\n",
    "    verbose=False,\n",
    "    learning_rate=0.1,\n",
    ")\n",
    "insomnia_model.fit(train_df.drop(columns=\"insomnia\"), train_df[\"insomnia\"])"
   ]
  },
  {
   "cell_type": "markdown",
   "id": "33a7769b",
   "metadata": {},
   "source": [
    "## Predicting missing values on test set"
   ]
  },
  {
   "cell_type": "code",
   "execution_count": 28,
   "id": "4d379c02",
   "metadata": {},
   "outputs": [],
   "source": [
    "test_df = pd.read_csv(\"TEST.csv\")"
   ]
  },
  {
   "cell_type": "code",
   "execution_count": 29,
   "id": "df2379e8",
   "metadata": {},
   "outputs": [],
   "source": [
    "test_df.loc[test_df['sport'].isna(), \"sport\"] = sport_model.predict(\n",
    "    test_df[test_df['sport'].isna()].drop(columns=[\"id\", \"sport\"])\n",
    ")\n",
    "test_df.loc[test_df['pernicious_1'].isna(), \"pernicious_1\"] = per_1_model.predict(\n",
    "    test_df[test_df['pernicious_1'].isna()].drop(columns=[\"id\", \"pernicious_1\"])\n",
    ")\n",
    "test_df.loc[test_df['pernicious_2'].isna(), \"pernicious_2\"] = per_2_model.predict(\n",
    "    test_df[test_df['pernicious_2'].isna()].drop(columns=[\"id\", \"pernicious_2\"])\n",
    ")"
   ]
  },
  {
   "cell_type": "code",
   "execution_count": 30,
   "id": "c620dcbc",
   "metadata": {},
   "outputs": [
    {
     "data": {
      "text/html": [
       "<div>\n",
       "<style scoped>\n",
       "    .dataframe tbody tr th:only-of-type {\n",
       "        vertical-align: middle;\n",
       "    }\n",
       "\n",
       "    .dataframe tbody tr th {\n",
       "        vertical-align: top;\n",
       "    }\n",
       "\n",
       "    .dataframe thead th {\n",
       "        text-align: right;\n",
       "    }\n",
       "</style>\n",
       "<table border=\"1\" class=\"dataframe\">\n",
       "  <thead>\n",
       "    <tr style=\"text-align: right;\">\n",
       "      <th></th>\n",
       "      <th>train_null_share</th>\n",
       "      <th>test_null_share</th>\n",
       "      <th>train_dtypes</th>\n",
       "      <th>train_mean</th>\n",
       "      <th>test_mean</th>\n",
       "    </tr>\n",
       "  </thead>\n",
       "  <tbody>\n",
       "    <tr>\n",
       "      <th>id</th>\n",
       "      <td>0.0</td>\n",
       "      <td>0.0</td>\n",
       "      <td>int64</td>\n",
       "      <td>50062.686900</td>\n",
       "      <td>50062.686900</td>\n",
       "    </tr>\n",
       "    <tr>\n",
       "      <th>age</th>\n",
       "      <td>0.0</td>\n",
       "      <td>0.0</td>\n",
       "      <td>float64</td>\n",
       "      <td>53.266334</td>\n",
       "      <td>53.266334</td>\n",
       "    </tr>\n",
       "    <tr>\n",
       "      <th>weight</th>\n",
       "      <td>0.0</td>\n",
       "      <td>0.0</td>\n",
       "      <td>float64</td>\n",
       "      <td>74.120615</td>\n",
       "      <td>74.120615</td>\n",
       "    </tr>\n",
       "    <tr>\n",
       "      <th>height</th>\n",
       "      <td>0.0</td>\n",
       "      <td>0.0</td>\n",
       "      <td>int64</td>\n",
       "      <td>164.322267</td>\n",
       "      <td>164.322267</td>\n",
       "    </tr>\n",
       "    <tr>\n",
       "      <th>sex</th>\n",
       "      <td>0.0</td>\n",
       "      <td>0.0</td>\n",
       "      <td>int64</td>\n",
       "      <td>1.353733</td>\n",
       "      <td>1.353733</td>\n",
       "    </tr>\n",
       "    <tr>\n",
       "      <th>stress</th>\n",
       "      <td>0.0</td>\n",
       "      <td>0.0</td>\n",
       "      <td>int64</td>\n",
       "      <td>1.368033</td>\n",
       "      <td>1.368033</td>\n",
       "    </tr>\n",
       "    <tr>\n",
       "      <th>doctor</th>\n",
       "      <td>0.0</td>\n",
       "      <td>0.0</td>\n",
       "      <td>int64</td>\n",
       "      <td>1.222700</td>\n",
       "      <td>1.222700</td>\n",
       "    </tr>\n",
       "    <tr>\n",
       "      <th>sport</th>\n",
       "      <td>0.0</td>\n",
       "      <td>0.0</td>\n",
       "      <td>float64</td>\n",
       "      <td>0.824567</td>\n",
       "      <td>0.824567</td>\n",
       "    </tr>\n",
       "    <tr>\n",
       "      <th>pernicious_1</th>\n",
       "      <td>0.0</td>\n",
       "      <td>0.0</td>\n",
       "      <td>float64</td>\n",
       "      <td>0.083900</td>\n",
       "      <td>0.083900</td>\n",
       "    </tr>\n",
       "    <tr>\n",
       "      <th>pernicious_2</th>\n",
       "      <td>0.0</td>\n",
       "      <td>0.0</td>\n",
       "      <td>float64</td>\n",
       "      <td>0.048967</td>\n",
       "      <td>0.048967</td>\n",
       "    </tr>\n",
       "    <tr>\n",
       "      <th>ubp</th>\n",
       "      <td>0.0</td>\n",
       "      <td>0.0</td>\n",
       "      <td>int64</td>\n",
       "      <td>130.271300</td>\n",
       "      <td>130.271300</td>\n",
       "    </tr>\n",
       "    <tr>\n",
       "      <th>lbp</th>\n",
       "      <td>0.0</td>\n",
       "      <td>0.0</td>\n",
       "      <td>int64</td>\n",
       "      <td>95.689000</td>\n",
       "      <td>95.689000</td>\n",
       "    </tr>\n",
       "  </tbody>\n",
       "</table>\n",
       "</div>"
      ],
      "text/plain": [
       "              train_null_share  test_null_share train_dtypes    train_mean  \\\n",
       "id                         0.0              0.0        int64  50062.686900   \n",
       "age                        0.0              0.0      float64     53.266334   \n",
       "weight                     0.0              0.0      float64     74.120615   \n",
       "height                     0.0              0.0        int64    164.322267   \n",
       "sex                        0.0              0.0        int64      1.353733   \n",
       "stress                     0.0              0.0        int64      1.368033   \n",
       "doctor                     0.0              0.0        int64      1.222700   \n",
       "sport                      0.0              0.0      float64      0.824567   \n",
       "pernicious_1               0.0              0.0      float64      0.083900   \n",
       "pernicious_2               0.0              0.0      float64      0.048967   \n",
       "ubp                        0.0              0.0        int64    130.271300   \n",
       "lbp                        0.0              0.0        int64     95.689000   \n",
       "\n",
       "                 test_mean  \n",
       "id            50062.686900  \n",
       "age              53.266334  \n",
       "weight           74.120615  \n",
       "height          164.322267  \n",
       "sex               1.353733  \n",
       "stress            1.368033  \n",
       "doctor            1.222700  \n",
       "sport             0.824567  \n",
       "pernicious_1      0.083900  \n",
       "pernicious_2      0.048967  \n",
       "ubp             130.271300  \n",
       "lbp              95.689000  "
      ]
     },
     "execution_count": 30,
     "metadata": {},
     "output_type": "execute_result"
    }
   ],
   "source": [
    "feat_research = pd.DataFrame(test_df.isna().sum() / test_df.shape[0], columns=['train_null_share'])\n",
    "feat_research['test_null_share'] = test_df.isna().sum() / test_df.shape[0]\n",
    "feat_research['train_dtypes'] = test_df.dtypes\n",
    "feat_research['train_mean'] = test_df.mean()\n",
    "feat_research['test_mean'] = test_df.mean()\n",
    "\n",
    "feat_research"
   ]
  },
  {
   "cell_type": "code",
   "execution_count": 52,
   "id": "a6376d18",
   "metadata": {},
   "outputs": [],
   "source": [
    "preds = insomnia_model.predict(test_df, prediction_type=\"Probability\")\n",
    "# preds = insomnia_model.predict(test_df)"
   ]
  },
  {
   "cell_type": "code",
   "execution_count": 54,
   "id": "521ff576",
   "metadata": {},
   "outputs": [
    {
     "data": {
      "text/plain": [
       "array([[0.47723199, 0.52276801],\n",
       "       [0.48397724, 0.51602276],\n",
       "       [0.60412834, 0.39587166],\n",
       "       [0.49197389, 0.50802611],\n",
       "       [0.79136225, 0.20863775]])"
      ]
     },
     "execution_count": 54,
     "metadata": {},
     "output_type": "execute_result"
    }
   ],
   "source": [
    "preds[:5]"
   ]
  },
  {
   "cell_type": "code",
   "execution_count": 55,
   "id": "096995a0",
   "metadata": {},
   "outputs": [
    {
     "data": {
      "text/html": [
       "<div>\n",
       "<style scoped>\n",
       "    .dataframe tbody tr th:only-of-type {\n",
       "        vertical-align: middle;\n",
       "    }\n",
       "\n",
       "    .dataframe tbody tr th {\n",
       "        vertical-align: top;\n",
       "    }\n",
       "\n",
       "    .dataframe thead th {\n",
       "        text-align: right;\n",
       "    }\n",
       "</style>\n",
       "<table border=\"1\" class=\"dataframe\">\n",
       "  <thead>\n",
       "    <tr style=\"text-align: right;\">\n",
       "      <th></th>\n",
       "      <th>id</th>\n",
       "      <th>insomnia</th>\n",
       "    </tr>\n",
       "  </thead>\n",
       "  <tbody>\n",
       "    <tr>\n",
       "      <th>0</th>\n",
       "      <td>5</td>\n",
       "      <td>0.5</td>\n",
       "    </tr>\n",
       "    <tr>\n",
       "      <th>1</th>\n",
       "      <td>6</td>\n",
       "      <td>0.5</td>\n",
       "    </tr>\n",
       "    <tr>\n",
       "      <th>2</th>\n",
       "      <td>7</td>\n",
       "      <td>0.5</td>\n",
       "    </tr>\n",
       "    <tr>\n",
       "      <th>3</th>\n",
       "      <td>10</td>\n",
       "      <td>0.5</td>\n",
       "    </tr>\n",
       "    <tr>\n",
       "      <th>4</th>\n",
       "      <td>11</td>\n",
       "      <td>0.5</td>\n",
       "    </tr>\n",
       "  </tbody>\n",
       "</table>\n",
       "</div>"
      ],
      "text/plain": [
       "   id  insomnia\n",
       "0   5       0.5\n",
       "1   6       0.5\n",
       "2   7       0.5\n",
       "3  10       0.5\n",
       "4  11       0.5"
      ]
     },
     "execution_count": 55,
     "metadata": {},
     "output_type": "execute_result"
    }
   ],
   "source": [
    "submission = pd.read_csv(\"sample_submission.csv\")\n",
    "submission.head()"
   ]
  },
  {
   "cell_type": "code",
   "execution_count": 56,
   "id": "abc64904",
   "metadata": {},
   "outputs": [
    {
     "data": {
      "text/html": [
       "<div>\n",
       "<style scoped>\n",
       "    .dataframe tbody tr th:only-of-type {\n",
       "        vertical-align: middle;\n",
       "    }\n",
       "\n",
       "    .dataframe tbody tr th {\n",
       "        vertical-align: top;\n",
       "    }\n",
       "\n",
       "    .dataframe thead th {\n",
       "        text-align: right;\n",
       "    }\n",
       "</style>\n",
       "<table border=\"1\" class=\"dataframe\">\n",
       "  <thead>\n",
       "    <tr style=\"text-align: right;\">\n",
       "      <th></th>\n",
       "      <th>id</th>\n",
       "      <th>insomnia</th>\n",
       "    </tr>\n",
       "  </thead>\n",
       "  <tbody>\n",
       "    <tr>\n",
       "      <th>0</th>\n",
       "      <td>5</td>\n",
       "      <td>0.522768</td>\n",
       "    </tr>\n",
       "    <tr>\n",
       "      <th>1</th>\n",
       "      <td>6</td>\n",
       "      <td>0.516023</td>\n",
       "    </tr>\n",
       "    <tr>\n",
       "      <th>2</th>\n",
       "      <td>7</td>\n",
       "      <td>0.395872</td>\n",
       "    </tr>\n",
       "    <tr>\n",
       "      <th>3</th>\n",
       "      <td>10</td>\n",
       "      <td>0.508026</td>\n",
       "    </tr>\n",
       "    <tr>\n",
       "      <th>4</th>\n",
       "      <td>11</td>\n",
       "      <td>0.208638</td>\n",
       "    </tr>\n",
       "  </tbody>\n",
       "</table>\n",
       "</div>"
      ],
      "text/plain": [
       "   id  insomnia\n",
       "0   5  0.522768\n",
       "1   6  0.516023\n",
       "2   7  0.395872\n",
       "3  10  0.508026\n",
       "4  11  0.208638"
      ]
     },
     "execution_count": 56,
     "metadata": {},
     "output_type": "execute_result"
    }
   ],
   "source": [
    "submission[\"insomnia\"] = preds[:, 1]\n",
    "submission.head()"
   ]
  },
  {
   "cell_type": "code",
   "execution_count": 57,
   "id": "d6113210",
   "metadata": {},
   "outputs": [],
   "source": [
    "submission.to_csv(\"sub.csv\", index=False)"
   ]
  },
  {
   "cell_type": "code",
   "execution_count": null,
   "id": "08ecf1a6",
   "metadata": {},
   "outputs": [],
   "source": []
  }
 ],
 "metadata": {
  "kernelspec": {
   "display_name": "Python 3 (ipykernel)",
   "language": "python",
   "name": "python3"
  },
  "language_info": {
   "codemirror_mode": {
    "name": "ipython",
    "version": 3
   },
   "file_extension": ".py",
   "mimetype": "text/x-python",
   "name": "python",
   "nbconvert_exporter": "python",
   "pygments_lexer": "ipython3",
   "version": "3.9.7"
  }
 },
 "nbformat": 4,
 "nbformat_minor": 5
}
